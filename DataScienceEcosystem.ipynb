{
 "cells": [
  {
   "cell_type": "markdown",
   "id": "7b21e81f-086c-45a7-8a31-9920be228ae5",
   "metadata": {},
   "source": [
    "# Data Science Tools And Ecosystem"
   ]
  },
  {
   "cell_type": "markdown",
   "id": "e7922df0-79f2-4b26-94a8-4eddb1c373c4",
   "metadata": {},
   "source": [
    "In this Notebook,Data Science Tools and Ecosystem are summarized"
   ]
  },
  {
   "cell_type": "markdown",
   "id": "65385482-ef7b-46e5-88c3-8151b121706f",
   "metadata": {},
   "source": [
    "**Objectives:**\n",
    "+ ->List Popular Data Science Languages\n",
    "+ ->List commonly used libraries in data science\n",
    "+ ->Tabulate some common Data Science Tools\n",
    "+ ->list few examples of arithmetic operations in python"
   ]
  },
  {
   "cell_type": "markdown",
   "id": "e910242e-1fc1-4071-99f3-b58bc3e25ff5",
   "metadata": {},
   "source": [
    "Some of the popular languages Data Scientists use are:\n",
    "1.Python\n",
    "2.R\n",
    "3.SQL"
   ]
  },
  {
   "cell_type": "markdown",
   "id": "bdf93224-de5b-4285-a48a-65642df53700",
   "metadata": {},
   "source": [
    "Some of the commonly used libraries used by Data Scientists include:\n",
    "1.NumPy\n",
    "2.Pandas\n",
    "3.Matplotlib"
   ]
  },
  {
   "cell_type": "markdown",
   "id": "52f634ca-cb0e-47c6-8cc9-252c9d7206e7",
   "metadata": {},
   "source": [
    "|Data Science Tools|\n",
    "|------------------|\n",
    "|Jupyter Notebook|\n",
    "|Rstudio|\n",
    "|Spyder|"
   ]
  },
  {
   "cell_type": "markdown",
   "id": "1f59a9d8-77ff-40af-aae7-eb1b7bd57f47",
   "metadata": {},
   "source": [
    "### Below are a few examples of evaluating arithmetic expressions in Python"
   ]
  },
  {
   "cell_type": "code",
   "execution_count": 1,
   "id": "df73f857-d53c-4a17-94f3-fae1e537b717",
   "metadata": {
    "scrolled": true
   },
   "outputs": [
    {
     "name": "stdout",
     "output_type": "stream",
     "text": [
      "17\n"
     ]
    }
   ],
   "source": [
    "# This a simple arithmetic expression to mutiply then add integers\n",
    "a=(3*4)+5\n",
    "print(a)"
   ]
  },
  {
   "cell_type": "code",
   "execution_count": 3,
   "id": "8031d3d4-0e8b-4b7f-9ea9-d700b57a13b1",
   "metadata": {},
   "outputs": [
    {
     "name": "stdout",
     "output_type": "stream",
     "text": [
      "200  minutes =  3  hours and 20  minutes.\n"
     ]
    }
   ],
   "source": [
    "#This will convert 200 minutes to hours by diving by 60\n",
    "minutes=200\n",
    "hours=minutes//60\n",
    "remaining_minutes=minutes%60\n",
    "print(minutes,\" minutes = \",hours,\" hours and\",remaining_minutes,\" minutes.\")\n"
   ]
  },
  {
   "cell_type": "markdown",
   "id": "849b8ee2-e208-4989-8d58-4f4fc741c3ac",
   "metadata": {},
   "source": [
    "## Author\n",
    "Mounika Chitturi."
   ]
  },
  {
   "cell_type": "code",
   "execution_count": null,
   "id": "f468a7cc-8ea1-4978-90cc-06119f70876d",
   "metadata": {},
   "outputs": [],
   "source": []
  }
 ],
 "metadata": {
  "kernelspec": {
   "display_name": "Python 3 (ipykernel)",
   "language": "python",
   "name": "python3"
  },
  "language_info": {
   "codemirror_mode": {
    "name": "ipython",
    "version": 3
   },
   "file_extension": ".py",
   "mimetype": "text/x-python",
   "name": "python",
   "nbconvert_exporter": "python",
   "pygments_lexer": "ipython3",
   "version": "3.12.8"
  }
 },
 "nbformat": 4,
 "nbformat_minor": 5
}
